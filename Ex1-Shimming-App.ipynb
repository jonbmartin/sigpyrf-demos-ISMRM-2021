{
 "cells": [
  {
   "cell_type": "markdown",
   "id": "6e04df81",
   "metadata": {},
   "source": [
    "# Exercise 1: \n",
    "# Constructing a Multislice RF Shimming App"
   ]
  },
  {
   "cell_type": "markdown",
   "id": "aba2b5e6",
   "metadata": {},
   "source": [
    "Welcome to Exercise 1! Here we'll gain familiarity with the abstractions used to build optimization-based iterative methods by building our own Apps for RF Shimming. Although some pulse design problems involve direct design, many require nonlinear optimization methods. SigPy's abstractions are perfect for neatly handling these pulse design problems! This demo will move quickly- visit the [hyperlinked documentation](https://sigpy.readthedocs.io/en/latest/) throughout the notebook to get more information on specific tools used.\n",
    "\n",
    "SigPy provides three supporting classes for building iterative reconstruction [App](https://sigpy.readthedocs.io/en/latest/generated/sigpy.app.App.html#sigpy.app.App)'s: \n",
    "\n",
    "- [Linop](https://sigpy.readthedocs.io/en/latest/generated/sigpy.linop.Linop.html#sigpy.linop.Linop) for linear operator\n",
    "- [Prox](https://sigpy.readthedocs.io/en/latest/generated/sigpy.prox.Prox.html#sigpy.prox.Prox) for proximal operator\n",
    "- [Alg](https://sigpy.readthedocs.io/en/latest/generated/sigpy.alg.Alg.html#sigpy.alg.Alg) for iterative algorithms\n",
    "\n",
    "Here we will cover Linops, Algs, and Apps. For more information on applying the Prox abstraction, please view [this tutorial](https://github.com/mikgroup/sigpy-mri-tutorial) (especially part 3).\n",
    "\n",
    "<!-- Also, we'd like to note that SigPy has a LOT of features that we don't have time to talk about today! These include:\n",
    " -->"
   ]
  },
  {
   "cell_type": "markdown",
   "id": "f2d669ec",
   "metadata": {},
   "source": [
    "## Setup\n",
    "\n",
    "Let us first import relevant packages and load a set of $B_1^+$ maps for a simulated 7T 8-channel transmit head coil. We'll shim slice-by-slice over 3 slices in the middle of the head."
   ]
  },
  {
   "cell_type": "code",
   "execution_count": null,
   "id": "28b530b5",
   "metadata": {
    "scrolled": false
   },
   "outputs": [],
   "source": [
    "%matplotlib notebook\n",
    "import sigpy as sp\n",
    "import sigpy.mri.rf as rf\n",
    "import sigpy.plot as pl\n",
    "import numpy as np\n",
    "\n",
    "sens = np.load('data/LoopTx8_B1p_Axial_3slice.npy')\n",
    "Nc = sens.shape[0]\n",
    "dim = sens.shape[1]\n",
    "img_shape = [dim, dim]\n",
    "Ns = sens.shape[3]\n",
    "print('B1p map shape = {}'.format(sens.shape))"
   ]
  },
  {
   "cell_type": "markdown",
   "id": "cbbb168a",
   "metadata": {},
   "source": [
    "Let's take a glance at the B1 maps for a single slice. SigPy's [plotting functions](https://sigpy.readthedocs.io/en/latest/plot.html) have hotkeys that allow us to:\n",
    "* look at the magnitude 'm', real 'r', imaginary 'i', or phase 'p' component of an image\n",
    "* move through an axis with the arrow keys\n",
    "\n",
    "Click on image plotted with the next line of code and try it out! "
   ]
  },
  {
   "cell_type": "code",
   "execution_count": null,
   "id": "eb9e8fa3",
   "metadata": {},
   "outputs": [],
   "source": [
    "pl.ImagePlot(np.transpose(sens,(3, 0, 1, 2)), title='8ch B1p Map')"
   ]
  },
  {
   "cell_type": "markdown",
   "id": "0b254ffe",
   "metadata": {},
   "source": [
    "We would like to use the superposition of these eight transmit fields to produce a homogeneous overall transmit field by the adjustment of the magnitudes and phases of individual transmit elements. Let's build two Apps to try and find the optimal weights - once with a **Linear Least Squares Algorithm**, and once with a **Magnitude Least Squares Algorithm**! "
   ]
  },
  {
   "cell_type": "markdown",
   "id": "8efe1dab",
   "metadata": {},
   "source": [
    " In a Linear Least Squares form, the problem of RF shimming can be written as:\n",
    " $$b = \\min_b \\frac{1}{2} \\| A b - m \\|_w^2 + R(b)$$\n",
    " \n",
    " Where $A$ is the parallel transmission system matrix, $m$ is target profile in space, and $b$ is the vector of complex weights corresponding to each transmit channel. $R(b)$, a regularization term, and $w$, a weighting over a region of interest, may also be included.\n",
    " \n",
    " ## Linop\n",
    " \n",
    " First, let's build our $A$ Linear Operator. Linear operators are abstracted in the class [Linop](https://sigpy.readthedocs.io/en/latest/generated/sigpy.linop.Linop.html#sigpy.linop.Linop). Given a Linop A, and an appropriately shaped input x, we can compute x -> A(x) by:\n",
    "\n",
    "       >>> y = A(x)\n",
    "       or\n",
    "       >>> y = A * x\n",
    "\n",
    "Its adjoint linear operator can be obtained using the `.H` attribute. Linops can be scaled, added, subtracted, stacked and composed.\n",
    "\n",
    "We can make the [pTx linear operator](https://sigpy.readthedocs.io/en/latest/generated/sigpy.mri.rf.linop.PtxSpatialExplicit.html#sigpy.mri.rf.linop.PtxSpatialExplicit) $A$ for just one head slice with the line below. Because we are simply shimming with static weights and not following an excitation k-space trajectory, our 'coord' argument is simply a single 0 - we are right at DC. 'dt' is also meaningless in this problem, since the shim is static.\n"
   ]
  },
  {
   "cell_type": "code",
   "execution_count": null,
   "id": "c5faa4b1",
   "metadata": {},
   "outputs": [],
   "source": [
    "k = np.zeros((1,2),dtype=complex)\n",
    "A_slice = rf.PtxSpatialExplicit(sens[:, :, :, 0], coord=k, dt=0,\n",
    "                                img_shape=img_shape)\n",
    "print('A_slice input shape = {}'.format(A_slice.ishape))\n",
    "print('A_slice output shape = {}'.format(A_slice.oshape))\n"
   ]
  },
  {
   "cell_type": "markdown",
   "id": "7937c464",
   "metadata": {},
   "source": [
    "We want to shim all of our slices simultaneously, so let's diagonally stack the $A$ linear operator for each slice with [sp.linop.Diag](https://sigpy.readthedocs.io/en/latest/generated/sigpy.linop.Diag.html#sigpy.linop.Diag). Diag creates a new linop that splits an input, applies each component linop independently, and concatenates the outputs."
   ]
  },
  {
   "cell_type": "code",
   "execution_count": null,
   "id": "0db75cfb",
   "metadata": {},
   "outputs": [],
   "source": [
    "As = []\n",
    "for ii in range(Ns):\n",
    "    A_slice = rf.PtxSpatialExplicit(sens[:, :, :, ii], coord=k, dt=0,\n",
    "                                    img_shape=img_shape)\n",
    "    As.append(A_slice)\n",
    "\n",
    "A = sp.linop.Diag(As)\n",
    "\n",
    "print('A input shape = {}'.format(A.ishape))\n",
    "print('A output shape = {}'.format(A.oshape))"
   ]
  },
  {
   "cell_type": "markdown",
   "id": "0511f351",
   "metadata": {},
   "source": [
    "Let's just take a guess at a good shim first- how about a circularly polarized \"birdcage mode\" shim, where our amplitudes are equal but our coil phases are aligned in the center of the head. We can input it to the linear operator..."
   ]
  },
  {
   "cell_type": "code",
   "execution_count": null,
   "id": "ede07eca",
   "metadata": {},
   "outputs": [],
   "source": [
    "guess_shim = rf.init_circ_polar(sens[:,:,:,0])\n",
    "m = A_slice * guess_shim\n",
    "pl.ImagePlot(m, title='CP Mode Shim')"
   ]
  },
  {
   "cell_type": "markdown",
   "id": "d9680568",
   "metadata": {},
   "source": [
    "Well - that's not very uniform. Let's try a a LLS approach now.\n",
    "\n",
    "In a Linear Least Squares form, the problem of RF shimming can be written as:\n",
    " $$x = \\min_x \\frac{1}{2} \\| A x - m \\|_w^2 + R(x)$$\n",
    " \n",
    " Where $A$ is the parallel transmission system matrix, $m$ is target profile in space, and $x$ is the vector of complex weights corresponding to each transmit channel. $R(x)$, a regularization term, and $w$, a weighting over a region of interest, may also be included (although we will not demonstrate their use here)."
   ]
  },
  {
   "cell_type": "markdown",
   "id": "8e48f220",
   "metadata": {},
   "source": [
    "## Alg \n",
    " [Alg](https://sigpy.readthedocs.io/en/latest/generated/sigpy.alg.Alg.html#sigpy.alg.Alg) abstracts iterative algorithms. The standard way of using an [Alg](https://sigpy.readthedocs.io/en/latest/generated/sigpy.alg.Alg.html#sigpy.alg.Alg), say 'alg', is as follows:\n",
    "\n",
    "    >>> while not alg.done():\n",
    "    >>>     alg.update()\n",
    "\n",
    "The user is free to run other things in the while loop.\n",
    "\n",
    "For our LLS Algorithm, let's use a [Conjugate Gradient](https://sigpy.readthedocs.io/en/latest/generated/sigpy.alg.ConjugateGradient.html#sigpy.alg.ConjugateGradient) optimizer. We can test it first using our single-slice $A$ linop:"
   ]
  },
  {
   "cell_type": "code",
   "execution_count": null,
   "id": "bbd371d3",
   "metadata": {},
   "outputs": [],
   "source": [
    "max_iter = 100\n",
    "tol = 1e-7\n",
    "\n",
    "target = np.ones((dim, dim), dtype=complex)\n",
    "x0 = np.zeros((Nc,1)) + 1j * np.zeros((Nc,1))\n",
    "\n",
    "alg = sp.alg.ConjugateGradient(A_slice.H * A_slice, A_slice.H * target,\n",
    "                                        x0, max_iter=max_iter, tol=tol)\n",
    "\n",
    "while not alg.done():\n",
    "    alg.update()\n",
    "    print('\\rCG Design, Iteration={}'.format(alg.iter), end='')\n",
    "\n",
    "pl.ImagePlot(A_slice * alg.x)"
   ]
  },
  {
   "cell_type": "markdown",
   "id": "3237857a",
   "metadata": {},
   "source": [
    "Better, but still not great - maybe it's a fluke? Let's make an App that shims all of the slices and see.\n",
    "\n",
    "## App\n",
    "\n",
    "An App is the highest level tool for deploying code for pulse design or reconstruction. It provides a simple interface to use applications. The standard way to run an [App](https://sigpy.readthedocs.io/en/latest/generated/sigpy.app.App.html#sigpy.app.App), say app, is as follows:\n",
    "\n",
    "    >>> app.run()\n",
    "\n",
    "Each [App](https://sigpy.readthedocs.io/en/latest/generated/sigpy.app.App.html#sigpy.app.App) must have a core Alg object. The `run()` function runs the Alg, with additional convenient features, such as a progress bar, which can be toggled with the `show_pbar` option.\n",
    "\n",
    "We will copy the codes from above, including our stacked linear linear operator, and form a`ShimLLS` App."
   ]
  },
  {
   "cell_type": "code",
   "execution_count": null,
   "id": "cd0886cd",
   "metadata": {},
   "outputs": [],
   "source": [
    "class ShimLLS(sp.app.App):\n",
    "    def __init__(self, sens3d, x0, max_iter=100, tol=1e-7, show_pbar=True):\n",
    "        self.sens = sens3d\n",
    "        self.x = x0\n",
    "        self.max_iter = max_iter\n",
    "        self.tol = tol\n",
    "        self.show_pbar = show_pbar\n",
    "\n",
    "        device = sp.get_device(sens)\n",
    "        self.device = sp.Device(device)\n",
    "\n",
    "        k = np.zeros((1,3),dtype=complex)\n",
    "        self.target = np.ones((dim*dim*Ns),dtype=complex)\n",
    "        # print(self.target.shape)\n",
    "        As = []\n",
    "        for ii in range(sens.shape[3]):\n",
    "            A_slice = rf.PtxSpatialExplicit(sens[:, :, :, ii], coord=k, dt=0, img_shape=img_shape)\n",
    "            As.append(A_slice)\n",
    "\n",
    "        self.A = sp.linop.Diag(As)\n",
    "\n",
    "        # solving A.H * A * x = A.H * m\n",
    "        with self.device:\n",
    "            self.alg = sp.alg.ConjugateGradient(self.A.H * self.A, self.A.H * self.target,\n",
    "                                                self.x,\n",
    "                                                max_iter=max_iter, tol=tol)\n",
    "\n",
    "        super().__init__(self.alg, show_pbar=show_pbar)\n",
    "\n",
    "    def _summarize(self):\n",
    "        if self.show_pbar:\n",
    "            self.pbar.set_postfix(resid='{0:.2E}'.format(self.alg.resid))\n",
    "\n",
    "    def _output(self):\n",
    "        return self.x"
   ]
  },
  {
   "cell_type": "code",
   "execution_count": null,
   "id": "1302b3e9",
   "metadata": {},
   "outputs": [],
   "source": [
    "x0 = np.zeros((Nc*Ns), dtype=complex)  # initial shim\n",
    "x_lls = ShimLLS(sens, x0, show_pbar=True).run()\n",
    "m = np.reshape(A*x_lls, (Ns, dim, dim))\n",
    "pl.ImagePlot(m)"
   ]
  },
  {
   "cell_type": "markdown",
   "id": "188818e3",
   "metadata": {},
   "source": [
    "Our shim solutions aren't very uniform for any of the slices. However, in Let's try this again, but with a Magnitude Least Squares optimization, where we aren't so concerned with the phase of the profile. The MLS shimming problem is formulated as: \n",
    "\n",
    " $$b = \\min_b \\frac{1}{2} \\| |A b| - m \\|_w^2 + R(b)$$\n",
    " \n",
    "Although this optimization problem is non-convex, it can be reformulated and solved using the Gerchberg-Saxton algorithm:"
   ]
  },
  {
   "cell_type": "code",
   "execution_count": null,
   "id": "7a37e611",
   "metadata": {
    "scrolled": false
   },
   "outputs": [],
   "source": [
    "max_iter = 100\n",
    "tol = 1e-7\n",
    "\n",
    "target = np.ones((dim, dim), dtype=complex)\n",
    "x0 = np.zeros((Nc,1)) + 1j * np.zeros((Nc,1))\n",
    "\n",
    "alg = sp.alg.GerchbergSaxton(A_slice, target, x0, max_iter=max_iter,\n",
    "                             tol=tol)\n",
    "\n",
    "while not alg.done():\n",
    "    alg.update()\n",
    "    print('\\rGS Design, Iteration={}'.format(alg.iter), end='')\n",
    "\n",
    "pl.ImagePlot(A_slice * alg.x)"
   ]
  },
  {
   "cell_type": "markdown",
   "id": "35963f3e",
   "metadata": {},
   "source": [
    "That looks a lot better! now let's make a MLS multislice shimming App with the same form as our LLS App, and compare the results."
   ]
  },
  {
   "cell_type": "code",
   "execution_count": null,
   "id": "78bf8ef2",
   "metadata": {},
   "outputs": [],
   "source": [
    "class ShimMLS(sp.app.App):\n",
    "    def __init__(self, sens3d, x0, max_iter=100, tol=1e-7, show_pbar=True):\n",
    "        self.sens = sens3d\n",
    "        self.x = x0\n",
    "        self.max_iter = max_iter\n",
    "        self.tol = tol\n",
    "        self.show_pbar = show_pbar\n",
    "\n",
    "        device = sp.get_device(sens)\n",
    "        self.device = sp.Device(device)\n",
    "\n",
    "        coord = np.zeros((1,3),dtype=complex)\n",
    "        self.target = np.ones((dim*dim*Ns), dtype=complex)\n",
    "        As = []\n",
    "        for ii in range(sens.shape[3]):\n",
    "            A_slice = rf.PtxSpatialExplicit(sens[:, :, :, ii], coord, dt=4e-6, img_shape=img_shape)\n",
    "            As.append(A_slice)\n",
    "\n",
    "        self.A = sp.linop.Diag(As)\n",
    "        # solving A.H * A * pulses = A.H * m\n",
    "        with self.device:\n",
    "            self.alg = sp.alg.GerchbergSaxton(A,self.target,x0,max_iter=self.max_iter,tol=self.tol)\n",
    "\n",
    "        super().__init__(self.alg, show_pbar=show_pbar)\n",
    "\n",
    "    def _summarize(self):\n",
    "        if self.show_pbar:\n",
    "            self.pbar.set_postfix(resid='{0:.2E}'.format(self.alg.residual))\n",
    "\n",
    "    def _output(self):\n",
    "        return self.x\n"
   ]
  },
  {
   "cell_type": "code",
   "execution_count": null,
   "id": "ff669170",
   "metadata": {},
   "outputs": [],
   "source": [
    "x0 = np.zeros((Nc*Ns), dtype=complex)\n",
    "x_mls = ShimMLS(sens, x0, show_pbar=True).run()\n",
    "m = np.reshape(A*x_mls, (Ns, dim, dim))\n",
    "pl.ImagePlot(m)"
   ]
  },
  {
   "cell_type": "markdown",
   "id": "6e8d0ff5",
   "metadata": {},
   "source": [
    "This isn't perfect, but it's quite a bit better!"
   ]
  }
 ],
 "metadata": {
  "kernelspec": {
   "display_name": "Python 3",
   "language": "python",
   "name": "python3"
  },
  "language_info": {
   "codemirror_mode": {
    "name": "ipython",
    "version": 3
   },
   "file_extension": ".py",
   "mimetype": "text/x-python",
   "name": "python",
   "nbconvert_exporter": "python",
   "pygments_lexer": "ipython3",
   "version": "3.7.3"
  }
 },
 "nbformat": 4,
 "nbformat_minor": 5
}
